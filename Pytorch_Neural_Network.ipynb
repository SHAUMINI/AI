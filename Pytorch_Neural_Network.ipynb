{
  "nbformat": 4,
  "nbformat_minor": 0,
  "metadata": {
    "colab": {
      "provenance": [],
      "authorship_tag": "ABX9TyO0pKXzunBU5nSEQQDJJEGw",
      "include_colab_link": true
    },
    "kernelspec": {
      "name": "python3",
      "display_name": "Python 3"
    },
    "language_info": {
      "name": "python"
    }
  },
  "cells": [
    {
      "cell_type": "markdown",
      "metadata": {
        "id": "view-in-github",
        "colab_type": "text"
      },
      "source": [
        "<a href=\"https://colab.research.google.com/github/SHAUMINI/AI/blob/main/Pytorch_Neural_Network.ipynb\" target=\"_parent\"><img src=\"https://colab.research.google.com/assets/colab-badge.svg\" alt=\"Open In Colab\"/></a>"
      ]
    },
    {
      "cell_type": "code",
      "execution_count": null,
      "metadata": {
        "id": "jkUudNsrmn7b"
      },
      "outputs": [],
      "source": [
        "import torch\n",
        "import torchvision.datasets as datasets\n",
        "import torchvision.transforms as transforms\n",
        "import torch.nn as nn\n",
        "import torch.optim as optim\n"
      ]
    },
    {
      "cell_type": "code",
      "source": [
        "transform=transforms.Compose([transforms.ToTensor(),\n",
        "                             transforms.Normalize((0.1307),(0.3081))]) #mean value #standardize value"
      ],
      "metadata": {
        "id": "FhiqyT1FnRld"
      },
      "execution_count": null,
      "outputs": []
    },
    {
      "cell_type": "code",
      "source": [
        "train_datasets=datasets.MNIST('data',\n",
        "                              train=True,\n",
        "                              download=True,transform=transform)"
      ],
      "metadata": {
        "id": "1G5MKjUknR4H"
      },
      "execution_count": null,
      "outputs": []
    },
    {
      "cell_type": "code",
      "source": [
        "train_loader=torch.utils.data.DataLoader(train_datasets,\n",
        "                                         batch_size=64,\n",
        "                                         shuffle=True)"
      ],
      "metadata": {
        "id": "hVsT9l0wqZ8r"
      },
      "execution_count": null,
      "outputs": []
    },
    {
      "cell_type": "code",
      "source": [
        "class Neural(nn.Module):\n",
        "  def __init__(self):\n",
        "    super(Neural,self).__init__()\n",
        "    self.fc1=nn.Linear(28*28,128)\n",
        "    self.fc2=nn.Linear(128,64)\n",
        "    self.fc3=nn.Linear(64,10)\n",
        "  def forward(self,x):\n",
        "    x=x.view(-1,28*28)\n",
        "    x=torch.relu(self.fc1(x))\n",
        "    x = torch.relu(self.fc2(x))\n",
        "    x=self.fc3(x)\n",
        "    return x\n",
        "net=Neural()\n"
      ],
      "metadata": {
        "id": "lRF638doqZ5g"
      },
      "execution_count": null,
      "outputs": []
    },
    {
      "cell_type": "code",
      "source": [
        "criterion=nn.CrossEntropyLoss()\n",
        "optimizer=optim.SGD(net.parameters(),lr=0.01,momentum=0.5)"
      ],
      "metadata": {
        "id": "U7hrgRf4z4np"
      },
      "execution_count": null,
      "outputs": []
    },
    {
      "cell_type": "code",
      "source": [
        "num_epochs=10\n",
        "for epoch in range(num_epochs):\n",
        "  for batch_idx,(data,target) in enumerate (train_loader):\n",
        "    optimizer.zero_grad()\n",
        "    output=net(data)\n",
        "    loss =criterion(output,target)\n",
        "    loss.backward()\n",
        "    optimizer.step()\n",
        "    if batch_idx % 100==0:\n",
        "      print('Train Epoch: {} [{}/{} ({:.0f}%)]\\tLoss: {:.6f}'.format(\n",
        "                epoch, batch_idx * len(data), len(train_loader.dataset),\n",
        "                100. * batch_idx / len(train_loader), loss.item()))"
      ],
      "metadata": {
        "colab": {
          "base_uri": "https://localhost:8080/"
        },
        "id": "Ac1F0ajT0fgm",
        "outputId": "422dbf92-d32d-4000-dd25-b75e6163adec"
      },
      "execution_count": null,
      "outputs": [
        {
          "output_type": "stream",
          "name": "stdout",
          "text": [
            "Train Epoch: 0 [0/60000 (0%)]\tLoss: 2.331625\n",
            "Train Epoch: 0 [6400/60000 (11%)]\tLoss: 1.377226\n",
            "Train Epoch: 0 [12800/60000 (21%)]\tLoss: 0.695059\n",
            "Train Epoch: 0 [19200/60000 (32%)]\tLoss: 0.346756\n",
            "Train Epoch: 0 [25600/60000 (43%)]\tLoss: 0.350855\n",
            "Train Epoch: 0 [32000/60000 (53%)]\tLoss: 0.253700\n",
            "Train Epoch: 0 [38400/60000 (64%)]\tLoss: 0.250386\n",
            "Train Epoch: 0 [44800/60000 (75%)]\tLoss: 0.278871\n",
            "Train Epoch: 0 [51200/60000 (85%)]\tLoss: 0.225773\n",
            "Train Epoch: 0 [57600/60000 (96%)]\tLoss: 0.305551\n",
            "Train Epoch: 1 [0/60000 (0%)]\tLoss: 0.282335\n",
            "Train Epoch: 1 [6400/60000 (11%)]\tLoss: 0.246733\n",
            "Train Epoch: 1 [12800/60000 (21%)]\tLoss: 0.162091\n",
            "Train Epoch: 1 [19200/60000 (32%)]\tLoss: 0.298708\n",
            "Train Epoch: 1 [25600/60000 (43%)]\tLoss: 0.266268\n",
            "Train Epoch: 1 [32000/60000 (53%)]\tLoss: 0.173215\n",
            "Train Epoch: 1 [38400/60000 (64%)]\tLoss: 0.176539\n",
            "Train Epoch: 1 [44800/60000 (75%)]\tLoss: 0.316122\n",
            "Train Epoch: 1 [51200/60000 (85%)]\tLoss: 0.231115\n",
            "Train Epoch: 1 [57600/60000 (96%)]\tLoss: 0.144513\n",
            "Train Epoch: 2 [0/60000 (0%)]\tLoss: 0.341591\n",
            "Train Epoch: 2 [6400/60000 (11%)]\tLoss: 0.126730\n",
            "Train Epoch: 2 [12800/60000 (21%)]\tLoss: 0.188125\n",
            "Train Epoch: 2 [19200/60000 (32%)]\tLoss: 0.135893\n",
            "Train Epoch: 2 [25600/60000 (43%)]\tLoss: 0.222584\n",
            "Train Epoch: 2 [32000/60000 (53%)]\tLoss: 0.083617\n",
            "Train Epoch: 2 [38400/60000 (64%)]\tLoss: 0.202209\n",
            "Train Epoch: 2 [44800/60000 (75%)]\tLoss: 0.086498\n",
            "Train Epoch: 2 [51200/60000 (85%)]\tLoss: 0.160951\n",
            "Train Epoch: 2 [57600/60000 (96%)]\tLoss: 0.298396\n",
            "Train Epoch: 3 [0/60000 (0%)]\tLoss: 0.124550\n",
            "Train Epoch: 3 [6400/60000 (11%)]\tLoss: 0.209601\n",
            "Train Epoch: 3 [12800/60000 (21%)]\tLoss: 0.165116\n",
            "Train Epoch: 3 [19200/60000 (32%)]\tLoss: 0.143263\n",
            "Train Epoch: 3 [25600/60000 (43%)]\tLoss: 0.103767\n",
            "Train Epoch: 3 [32000/60000 (53%)]\tLoss: 0.249140\n",
            "Train Epoch: 3 [38400/60000 (64%)]\tLoss: 0.105019\n",
            "Train Epoch: 3 [44800/60000 (75%)]\tLoss: 0.065624\n",
            "Train Epoch: 3 [51200/60000 (85%)]\tLoss: 0.051605\n",
            "Train Epoch: 3 [57600/60000 (96%)]\tLoss: 0.315188\n",
            "Train Epoch: 4 [0/60000 (0%)]\tLoss: 0.337232\n",
            "Train Epoch: 4 [6400/60000 (11%)]\tLoss: 0.117998\n",
            "Train Epoch: 4 [12800/60000 (21%)]\tLoss: 0.097598\n",
            "Train Epoch: 4 [19200/60000 (32%)]\tLoss: 0.119769\n",
            "Train Epoch: 4 [25600/60000 (43%)]\tLoss: 0.039442\n",
            "Train Epoch: 4 [32000/60000 (53%)]\tLoss: 0.074641\n",
            "Train Epoch: 4 [38400/60000 (64%)]\tLoss: 0.178095\n",
            "Train Epoch: 4 [44800/60000 (75%)]\tLoss: 0.204810\n",
            "Train Epoch: 4 [51200/60000 (85%)]\tLoss: 0.186455\n",
            "Train Epoch: 4 [57600/60000 (96%)]\tLoss: 0.180045\n",
            "Train Epoch: 5 [0/60000 (0%)]\tLoss: 0.101804\n",
            "Train Epoch: 5 [6400/60000 (11%)]\tLoss: 0.051517\n",
            "Train Epoch: 5 [12800/60000 (21%)]\tLoss: 0.027858\n",
            "Train Epoch: 5 [19200/60000 (32%)]\tLoss: 0.030939\n",
            "Train Epoch: 5 [25600/60000 (43%)]\tLoss: 0.092118\n",
            "Train Epoch: 5 [32000/60000 (53%)]\tLoss: 0.071191\n",
            "Train Epoch: 5 [38400/60000 (64%)]\tLoss: 0.127682\n",
            "Train Epoch: 5 [44800/60000 (75%)]\tLoss: 0.082575\n",
            "Train Epoch: 5 [51200/60000 (85%)]\tLoss: 0.122204\n",
            "Train Epoch: 5 [57600/60000 (96%)]\tLoss: 0.125548\n",
            "Train Epoch: 6 [0/60000 (0%)]\tLoss: 0.166457\n",
            "Train Epoch: 6 [6400/60000 (11%)]\tLoss: 0.061369\n",
            "Train Epoch: 6 [12800/60000 (21%)]\tLoss: 0.036164\n",
            "Train Epoch: 6 [19200/60000 (32%)]\tLoss: 0.022664\n",
            "Train Epoch: 6 [25600/60000 (43%)]\tLoss: 0.046288\n",
            "Train Epoch: 6 [32000/60000 (53%)]\tLoss: 0.089528\n",
            "Train Epoch: 6 [38400/60000 (64%)]\tLoss: 0.032882\n",
            "Train Epoch: 6 [44800/60000 (75%)]\tLoss: 0.044577\n",
            "Train Epoch: 6 [51200/60000 (85%)]\tLoss: 0.039051\n",
            "Train Epoch: 6 [57600/60000 (96%)]\tLoss: 0.072874\n",
            "Train Epoch: 7 [0/60000 (0%)]\tLoss: 0.082714\n",
            "Train Epoch: 7 [6400/60000 (11%)]\tLoss: 0.148834\n",
            "Train Epoch: 7 [12800/60000 (21%)]\tLoss: 0.104545\n",
            "Train Epoch: 7 [19200/60000 (32%)]\tLoss: 0.102924\n",
            "Train Epoch: 7 [25600/60000 (43%)]\tLoss: 0.136720\n",
            "Train Epoch: 7 [32000/60000 (53%)]\tLoss: 0.009102\n",
            "Train Epoch: 7 [38400/60000 (64%)]\tLoss: 0.033086\n",
            "Train Epoch: 7 [44800/60000 (75%)]\tLoss: 0.078254\n",
            "Train Epoch: 7 [51200/60000 (85%)]\tLoss: 0.028794\n",
            "Train Epoch: 7 [57600/60000 (96%)]\tLoss: 0.068671\n",
            "Train Epoch: 8 [0/60000 (0%)]\tLoss: 0.016712\n",
            "Train Epoch: 8 [6400/60000 (11%)]\tLoss: 0.050102\n",
            "Train Epoch: 8 [12800/60000 (21%)]\tLoss: 0.018340\n",
            "Train Epoch: 8 [19200/60000 (32%)]\tLoss: 0.041331\n",
            "Train Epoch: 8 [25600/60000 (43%)]\tLoss: 0.125069\n",
            "Train Epoch: 8 [32000/60000 (53%)]\tLoss: 0.083096\n",
            "Train Epoch: 8 [38400/60000 (64%)]\tLoss: 0.069981\n",
            "Train Epoch: 8 [44800/60000 (75%)]\tLoss: 0.091468\n",
            "Train Epoch: 8 [51200/60000 (85%)]\tLoss: 0.119698\n",
            "Train Epoch: 8 [57600/60000 (96%)]\tLoss: 0.037451\n",
            "Train Epoch: 9 [0/60000 (0%)]\tLoss: 0.045547\n",
            "Train Epoch: 9 [6400/60000 (11%)]\tLoss: 0.052488\n",
            "Train Epoch: 9 [12800/60000 (21%)]\tLoss: 0.102399\n",
            "Train Epoch: 9 [19200/60000 (32%)]\tLoss: 0.168518\n",
            "Train Epoch: 9 [25600/60000 (43%)]\tLoss: 0.026425\n",
            "Train Epoch: 9 [32000/60000 (53%)]\tLoss: 0.241080\n",
            "Train Epoch: 9 [38400/60000 (64%)]\tLoss: 0.046005\n",
            "Train Epoch: 9 [44800/60000 (75%)]\tLoss: 0.068330\n",
            "Train Epoch: 9 [51200/60000 (85%)]\tLoss: 0.059429\n",
            "Train Epoch: 9 [57600/60000 (96%)]\tLoss: 0.118182\n"
          ]
        }
      ]
    },
    {
      "cell_type": "code",
      "source": [
        "test_dataset=datasets.MNIST('data',train=False,download=True,transform=transform)\n",
        "test_loader=torch.utils.data.DataLoader(test_dataset,batch_size=1000,shuffle=True)\n",
        "correct=0\n",
        "total=0\n",
        "with torch.no_grad():\n",
        "  output=net(data)\n",
        "  _,predicted=torch.max(output.data,1)\n",
        "  total+=target.size(0)\n",
        "  correct+=(predicted==target).sum().item()"
      ],
      "metadata": {
        "id": "tLv3lUIv0fdR"
      },
      "execution_count": null,
      "outputs": []
    },
    {
      "cell_type": "code",
      "source": [
        "print('Accuracy of the network on the 10000 test images: %d %%' % (\n",
        "    100 * correct / total))\n"
      ],
      "metadata": {
        "colab": {
          "base_uri": "https://localhost:8080/"
        },
        "id": "KQYcyOBx1_2q",
        "outputId": "ef9744cc-7650-4a85-e03e-100e67cbfd92"
      },
      "execution_count": null,
      "outputs": [
        {
          "output_type": "stream",
          "name": "stdout",
          "text": [
            "Accuracy of the network on the 10000 test images: 100 %\n"
          ]
        }
      ]
    }
  ]
}
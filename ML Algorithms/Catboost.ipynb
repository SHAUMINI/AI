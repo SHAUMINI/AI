{
  "nbformat": 4,
  "nbformat_minor": 0,
  "metadata": {
    "colab": {
      "provenance": []
    },
    "kernelspec": {
      "name": "python3",
      "display_name": "Python 3"
    },
    "language_info": {
      "name": "python"
    }
  },
  "cells": [
    {
      "cell_type": "code",
      "execution_count": null,
      "metadata": {
        "id": "H8sNIecD4PVq"
      },
      "outputs": [],
      "source": [
        "import numpy as np\n",
        "import pandas as pd"
      ]
    },
    {
      "cell_type": "code",
      "source": [
        "train_df = pd.read_csv('https://github.com/ezioauditore-tech/AI/raw/main/datasets/amazon-employee-access-challenge/train.csv')\n",
        "test_df = pd.read_csv('https://github.com/ezioauditore-tech/AI/raw/main/datasets/amazon-employee-access-challenge/test.csv')"
      ],
      "metadata": {
        "id": "jtsRBF8Z4XG4"
      },
      "execution_count": null,
      "outputs": []
    },
    {
      "cell_type": "code",
      "source": [
        "train_df.head()"
      ],
      "metadata": {
        "colab": {
          "base_uri": "https://localhost:8080/",
          "height": 206
        },
        "id": "jgU_Rq1H4XDg",
        "outputId": "04f5801b-eb8e-40fb-c9da-dedaf597f411"
      },
      "execution_count": null,
      "outputs": [
        {
          "output_type": "execute_result",
          "data": {
            "text/plain": [
              "   ACTION  RESOURCE  MGR_ID  ROLE_ROLLUP_1  ROLE_ROLLUP_2  ROLE_DEPTNAME  \\\n",
              "0       1     39353   85475         117961         118300         123472   \n",
              "1       1     17183    1540         117961         118343         123125   \n",
              "2       1     36724   14457         118219         118220         117884   \n",
              "3       1     36135    5396         117961         118343         119993   \n",
              "4       1     42680    5905         117929         117930         119569   \n",
              "\n",
              "   ROLE_TITLE  ROLE_FAMILY_DESC  ROLE_FAMILY  ROLE_CODE  \n",
              "0      117905            117906       290919     117908  \n",
              "1      118536            118536       308574     118539  \n",
              "2      117879            267952        19721     117880  \n",
              "3      118321            240983       290919     118322  \n",
              "4      119323            123932        19793     119325  "
            ],
            "text/html": [
              "\n",
              "  <div id=\"df-847e9c85-fce3-4103-803b-45386ff68084\" class=\"colab-df-container\">\n",
              "    <div>\n",
              "<style scoped>\n",
              "    .dataframe tbody tr th:only-of-type {\n",
              "        vertical-align: middle;\n",
              "    }\n",
              "\n",
              "    .dataframe tbody tr th {\n",
              "        vertical-align: top;\n",
              "    }\n",
              "\n",
              "    .dataframe thead th {\n",
              "        text-align: right;\n",
              "    }\n",
              "</style>\n",
              "<table border=\"1\" class=\"dataframe\">\n",
              "  <thead>\n",
              "    <tr style=\"text-align: right;\">\n",
              "      <th></th>\n",
              "      <th>ACTION</th>\n",
              "      <th>RESOURCE</th>\n",
              "      <th>MGR_ID</th>\n",
              "      <th>ROLE_ROLLUP_1</th>\n",
              "      <th>ROLE_ROLLUP_2</th>\n",
              "      <th>ROLE_DEPTNAME</th>\n",
              "      <th>ROLE_TITLE</th>\n",
              "      <th>ROLE_FAMILY_DESC</th>\n",
              "      <th>ROLE_FAMILY</th>\n",
              "      <th>ROLE_CODE</th>\n",
              "    </tr>\n",
              "  </thead>\n",
              "  <tbody>\n",
              "    <tr>\n",
              "      <th>0</th>\n",
              "      <td>1</td>\n",
              "      <td>39353</td>\n",
              "      <td>85475</td>\n",
              "      <td>117961</td>\n",
              "      <td>118300</td>\n",
              "      <td>123472</td>\n",
              "      <td>117905</td>\n",
              "      <td>117906</td>\n",
              "      <td>290919</td>\n",
              "      <td>117908</td>\n",
              "    </tr>\n",
              "    <tr>\n",
              "      <th>1</th>\n",
              "      <td>1</td>\n",
              "      <td>17183</td>\n",
              "      <td>1540</td>\n",
              "      <td>117961</td>\n",
              "      <td>118343</td>\n",
              "      <td>123125</td>\n",
              "      <td>118536</td>\n",
              "      <td>118536</td>\n",
              "      <td>308574</td>\n",
              "      <td>118539</td>\n",
              "    </tr>\n",
              "    <tr>\n",
              "      <th>2</th>\n",
              "      <td>1</td>\n",
              "      <td>36724</td>\n",
              "      <td>14457</td>\n",
              "      <td>118219</td>\n",
              "      <td>118220</td>\n",
              "      <td>117884</td>\n",
              "      <td>117879</td>\n",
              "      <td>267952</td>\n",
              "      <td>19721</td>\n",
              "      <td>117880</td>\n",
              "    </tr>\n",
              "    <tr>\n",
              "      <th>3</th>\n",
              "      <td>1</td>\n",
              "      <td>36135</td>\n",
              "      <td>5396</td>\n",
              "      <td>117961</td>\n",
              "      <td>118343</td>\n",
              "      <td>119993</td>\n",
              "      <td>118321</td>\n",
              "      <td>240983</td>\n",
              "      <td>290919</td>\n",
              "      <td>118322</td>\n",
              "    </tr>\n",
              "    <tr>\n",
              "      <th>4</th>\n",
              "      <td>1</td>\n",
              "      <td>42680</td>\n",
              "      <td>5905</td>\n",
              "      <td>117929</td>\n",
              "      <td>117930</td>\n",
              "      <td>119569</td>\n",
              "      <td>119323</td>\n",
              "      <td>123932</td>\n",
              "      <td>19793</td>\n",
              "      <td>119325</td>\n",
              "    </tr>\n",
              "  </tbody>\n",
              "</table>\n",
              "</div>\n",
              "    <div class=\"colab-df-buttons\">\n",
              "\n",
              "  <div class=\"colab-df-container\">\n",
              "    <button class=\"colab-df-convert\" onclick=\"convertToInteractive('df-847e9c85-fce3-4103-803b-45386ff68084')\"\n",
              "            title=\"Convert this dataframe to an interactive table.\"\n",
              "            style=\"display:none;\">\n",
              "\n",
              "  <svg xmlns=\"http://www.w3.org/2000/svg\" height=\"24px\" viewBox=\"0 -960 960 960\">\n",
              "    <path d=\"M120-120v-720h720v720H120Zm60-500h600v-160H180v160Zm220 220h160v-160H400v160Zm0 220h160v-160H400v160ZM180-400h160v-160H180v160Zm440 0h160v-160H620v160ZM180-180h160v-160H180v160Zm440 0h160v-160H620v160Z\"/>\n",
              "  </svg>\n",
              "    </button>\n",
              "\n",
              "  <style>\n",
              "    .colab-df-container {\n",
              "      display:flex;\n",
              "      gap: 12px;\n",
              "    }\n",
              "\n",
              "    .colab-df-convert {\n",
              "      background-color: #E8F0FE;\n",
              "      border: none;\n",
              "      border-radius: 50%;\n",
              "      cursor: pointer;\n",
              "      display: none;\n",
              "      fill: #1967D2;\n",
              "      height: 32px;\n",
              "      padding: 0 0 0 0;\n",
              "      width: 32px;\n",
              "    }\n",
              "\n",
              "    .colab-df-convert:hover {\n",
              "      background-color: #E2EBFA;\n",
              "      box-shadow: 0px 1px 2px rgba(60, 64, 67, 0.3), 0px 1px 3px 1px rgba(60, 64, 67, 0.15);\n",
              "      fill: #174EA6;\n",
              "    }\n",
              "\n",
              "    .colab-df-buttons div {\n",
              "      margin-bottom: 4px;\n",
              "    }\n",
              "\n",
              "    [theme=dark] .colab-df-convert {\n",
              "      background-color: #3B4455;\n",
              "      fill: #D2E3FC;\n",
              "    }\n",
              "\n",
              "    [theme=dark] .colab-df-convert:hover {\n",
              "      background-color: #434B5C;\n",
              "      box-shadow: 0px 1px 3px 1px rgba(0, 0, 0, 0.15);\n",
              "      filter: drop-shadow(0px 1px 2px rgba(0, 0, 0, 0.3));\n",
              "      fill: #FFFFFF;\n",
              "    }\n",
              "  </style>\n",
              "\n",
              "    <script>\n",
              "      const buttonEl =\n",
              "        document.querySelector('#df-847e9c85-fce3-4103-803b-45386ff68084 button.colab-df-convert');\n",
              "      buttonEl.style.display =\n",
              "        google.colab.kernel.accessAllowed ? 'block' : 'none';\n",
              "\n",
              "      async function convertToInteractive(key) {\n",
              "        const element = document.querySelector('#df-847e9c85-fce3-4103-803b-45386ff68084');\n",
              "        const dataTable =\n",
              "          await google.colab.kernel.invokeFunction('convertToInteractive',\n",
              "                                                    [key], {});\n",
              "        if (!dataTable) return;\n",
              "\n",
              "        const docLinkHtml = 'Like what you see? Visit the ' +\n",
              "          '<a target=\"_blank\" href=https://colab.research.google.com/notebooks/data_table.ipynb>data table notebook</a>'\n",
              "          + ' to learn more about interactive tables.';\n",
              "        element.innerHTML = '';\n",
              "        dataTable['output_type'] = 'display_data';\n",
              "        await google.colab.output.renderOutput(dataTable, element);\n",
              "        const docLink = document.createElement('div');\n",
              "        docLink.innerHTML = docLinkHtml;\n",
              "        element.appendChild(docLink);\n",
              "      }\n",
              "    </script>\n",
              "  </div>\n",
              "\n",
              "\n",
              "<div id=\"df-97d72c49-334d-4d00-b405-a0b9c9462e56\">\n",
              "  <button class=\"colab-df-quickchart\" onclick=\"quickchart('df-97d72c49-334d-4d00-b405-a0b9c9462e56')\"\n",
              "            title=\"Suggest charts\"\n",
              "            style=\"display:none;\">\n",
              "\n",
              "<svg xmlns=\"http://www.w3.org/2000/svg\" height=\"24px\"viewBox=\"0 0 24 24\"\n",
              "     width=\"24px\">\n",
              "    <g>\n",
              "        <path d=\"M19 3H5c-1.1 0-2 .9-2 2v14c0 1.1.9 2 2 2h14c1.1 0 2-.9 2-2V5c0-1.1-.9-2-2-2zM9 17H7v-7h2v7zm4 0h-2V7h2v10zm4 0h-2v-4h2v4z\"/>\n",
              "    </g>\n",
              "</svg>\n",
              "  </button>\n",
              "\n",
              "<style>\n",
              "  .colab-df-quickchart {\n",
              "      --bg-color: #E8F0FE;\n",
              "      --fill-color: #1967D2;\n",
              "      --hover-bg-color: #E2EBFA;\n",
              "      --hover-fill-color: #174EA6;\n",
              "      --disabled-fill-color: #AAA;\n",
              "      --disabled-bg-color: #DDD;\n",
              "  }\n",
              "\n",
              "  [theme=dark] .colab-df-quickchart {\n",
              "      --bg-color: #3B4455;\n",
              "      --fill-color: #D2E3FC;\n",
              "      --hover-bg-color: #434B5C;\n",
              "      --hover-fill-color: #FFFFFF;\n",
              "      --disabled-bg-color: #3B4455;\n",
              "      --disabled-fill-color: #666;\n",
              "  }\n",
              "\n",
              "  .colab-df-quickchart {\n",
              "    background-color: var(--bg-color);\n",
              "    border: none;\n",
              "    border-radius: 50%;\n",
              "    cursor: pointer;\n",
              "    display: none;\n",
              "    fill: var(--fill-color);\n",
              "    height: 32px;\n",
              "    padding: 0;\n",
              "    width: 32px;\n",
              "  }\n",
              "\n",
              "  .colab-df-quickchart:hover {\n",
              "    background-color: var(--hover-bg-color);\n",
              "    box-shadow: 0 1px 2px rgba(60, 64, 67, 0.3), 0 1px 3px 1px rgba(60, 64, 67, 0.15);\n",
              "    fill: var(--button-hover-fill-color);\n",
              "  }\n",
              "\n",
              "  .colab-df-quickchart-complete:disabled,\n",
              "  .colab-df-quickchart-complete:disabled:hover {\n",
              "    background-color: var(--disabled-bg-color);\n",
              "    fill: var(--disabled-fill-color);\n",
              "    box-shadow: none;\n",
              "  }\n",
              "\n",
              "  .colab-df-spinner {\n",
              "    border: 2px solid var(--fill-color);\n",
              "    border-color: transparent;\n",
              "    border-bottom-color: var(--fill-color);\n",
              "    animation:\n",
              "      spin 1s steps(1) infinite;\n",
              "  }\n",
              "\n",
              "  @keyframes spin {\n",
              "    0% {\n",
              "      border-color: transparent;\n",
              "      border-bottom-color: var(--fill-color);\n",
              "      border-left-color: var(--fill-color);\n",
              "    }\n",
              "    20% {\n",
              "      border-color: transparent;\n",
              "      border-left-color: var(--fill-color);\n",
              "      border-top-color: var(--fill-color);\n",
              "    }\n",
              "    30% {\n",
              "      border-color: transparent;\n",
              "      border-left-color: var(--fill-color);\n",
              "      border-top-color: var(--fill-color);\n",
              "      border-right-color: var(--fill-color);\n",
              "    }\n",
              "    40% {\n",
              "      border-color: transparent;\n",
              "      border-right-color: var(--fill-color);\n",
              "      border-top-color: var(--fill-color);\n",
              "    }\n",
              "    60% {\n",
              "      border-color: transparent;\n",
              "      border-right-color: var(--fill-color);\n",
              "    }\n",
              "    80% {\n",
              "      border-color: transparent;\n",
              "      border-right-color: var(--fill-color);\n",
              "      border-bottom-color: var(--fill-color);\n",
              "    }\n",
              "    90% {\n",
              "      border-color: transparent;\n",
              "      border-bottom-color: var(--fill-color);\n",
              "    }\n",
              "  }\n",
              "</style>\n",
              "\n",
              "  <script>\n",
              "    async function quickchart(key) {\n",
              "      const quickchartButtonEl =\n",
              "        document.querySelector('#' + key + ' button');\n",
              "      quickchartButtonEl.disabled = true;  // To prevent multiple clicks.\n",
              "      quickchartButtonEl.classList.add('colab-df-spinner');\n",
              "      try {\n",
              "        const charts = await google.colab.kernel.invokeFunction(\n",
              "            'suggestCharts', [key], {});\n",
              "      } catch (error) {\n",
              "        console.error('Error during call to suggestCharts:', error);\n",
              "      }\n",
              "      quickchartButtonEl.classList.remove('colab-df-spinner');\n",
              "      quickchartButtonEl.classList.add('colab-df-quickchart-complete');\n",
              "    }\n",
              "    (() => {\n",
              "      let quickchartButtonEl =\n",
              "        document.querySelector('#df-97d72c49-334d-4d00-b405-a0b9c9462e56 button');\n",
              "      quickchartButtonEl.style.display =\n",
              "        google.colab.kernel.accessAllowed ? 'block' : 'none';\n",
              "    })();\n",
              "  </script>\n",
              "</div>\n",
              "\n",
              "    </div>\n",
              "  </div>\n"
            ]
          },
          "metadata": {},
          "execution_count": 7
        }
      ]
    },
    {
      "cell_type": "code",
      "source": [
        "train_df.info()"
      ],
      "metadata": {
        "colab": {
          "base_uri": "https://localhost:8080/"
        },
        "id": "UhdjU_E34XBM",
        "outputId": "ce33570f-7da1-4539-d47c-454846598d20"
      },
      "execution_count": null,
      "outputs": [
        {
          "output_type": "stream",
          "name": "stdout",
          "text": [
            "<class 'pandas.core.frame.DataFrame'>\n",
            "RangeIndex: 32769 entries, 0 to 32768\n",
            "Data columns (total 10 columns):\n",
            " #   Column            Non-Null Count  Dtype\n",
            "---  ------            --------------  -----\n",
            " 0   ACTION            32769 non-null  int64\n",
            " 1   RESOURCE          32769 non-null  int64\n",
            " 2   MGR_ID            32769 non-null  int64\n",
            " 3   ROLE_ROLLUP_1     32769 non-null  int64\n",
            " 4   ROLE_ROLLUP_2     32769 non-null  int64\n",
            " 5   ROLE_DEPTNAME     32769 non-null  int64\n",
            " 6   ROLE_TITLE        32769 non-null  int64\n",
            " 7   ROLE_FAMILY_DESC  32769 non-null  int64\n",
            " 8   ROLE_FAMILY       32769 non-null  int64\n",
            " 9   ROLE_CODE         32769 non-null  int64\n",
            "dtypes: int64(10)\n",
            "memory usage: 2.5 MB\n"
          ]
        }
      ]
    },
    {
      "cell_type": "code",
      "source": [
        "train_df.nunique()"
      ],
      "metadata": {
        "colab": {
          "base_uri": "https://localhost:8080/"
        },
        "id": "vsZ37R8i4W-j",
        "outputId": "fcf6e17d-26e1-4374-9683-6dabea7184cb"
      },
      "execution_count": null,
      "outputs": [
        {
          "output_type": "execute_result",
          "data": {
            "text/plain": [
              "ACTION                 2\n",
              "RESOURCE            7518\n",
              "MGR_ID              4243\n",
              "ROLE_ROLLUP_1        128\n",
              "ROLE_ROLLUP_2        177\n",
              "ROLE_DEPTNAME        449\n",
              "ROLE_TITLE           343\n",
              "ROLE_FAMILY_DESC    2358\n",
              "ROLE_FAMILY           67\n",
              "ROLE_CODE            343\n",
              "dtype: int64"
            ]
          },
          "metadata": {},
          "execution_count": 8
        }
      ]
    },
    {
      "cell_type": "code",
      "source": [
        "test_df.nunique()"
      ],
      "metadata": {
        "colab": {
          "base_uri": "https://localhost:8080/"
        },
        "id": "X3nck7oy4W8A",
        "outputId": "0cbe7372-d7eb-4739-ca59-7369c26f87f1"
      },
      "execution_count": null,
      "outputs": [
        {
          "output_type": "execute_result",
          "data": {
            "text/plain": [
              "id                  58921\n",
              "RESOURCE             4971\n",
              "MGR_ID               4689\n",
              "ROLE_ROLLUP_1         126\n",
              "ROLE_ROLLUP_2         177\n",
              "ROLE_DEPTNAME         466\n",
              "ROLE_TITLE            351\n",
              "ROLE_FAMILY_DESC     2749\n",
              "ROLE_FAMILY            68\n",
              "ROLE_CODE             351\n",
              "dtype: int64"
            ]
          },
          "metadata": {},
          "execution_count": 9
        }
      ]
    },
    {
      "cell_type": "code",
      "source": [
        "\n",
        "X = train_df.drop(\"ACTION\", axis=1)\n",
        "y = train_df[\"ACTION\"]"
      ],
      "metadata": {
        "id": "w-JTVvBy5hH1"
      },
      "execution_count": null,
      "outputs": []
    },
    {
      "cell_type": "code",
      "source": [
        "cat_features = list(range(0, X.shape[1]))\n",
        "print(cat_features)"
      ],
      "metadata": {
        "colab": {
          "base_uri": "https://localhost:8080/"
        },
        "id": "p1ILFvLM5hEh",
        "outputId": "d813dfc3-21ad-4ac4-aacc-5dbbaf08153d"
      },
      "execution_count": null,
      "outputs": [
        {
          "output_type": "stream",
          "name": "stdout",
          "text": [
            "[0, 1, 2, 3, 4, 5, 6, 7, 8]\n"
          ]
        }
      ]
    },
    {
      "cell_type": "code",
      "source": [
        "from sklearn.model_selection import train_test_split\n",
        "\n",
        "X_train, X_val, y_train, y_val = train_test_split(X, y, test_size=0.2, random_state=0)"
      ],
      "metadata": {
        "id": "RM7n9jLB5q9l"
      },
      "execution_count": null,
      "outputs": []
    },
    {
      "cell_type": "code",
      "source": [
        "\n",
        "!pip install catboost"
      ],
      "metadata": {
        "colab": {
          "base_uri": "https://localhost:8080/"
        },
        "id": "of-hTJhR5q6K",
        "outputId": "0ab1d0d5-2028-488d-9e29-09839dccd8f7"
      },
      "execution_count": null,
      "outputs": [
        {
          "output_type": "stream",
          "name": "stdout",
          "text": [
            "Collecting catboost\n",
            "  Downloading catboost-1.2.2-cp310-cp310-manylinux2014_x86_64.whl (98.7 MB)\n",
            "\u001b[2K     \u001b[90m━━━━━━━━━━━━━━━━━━━━━━━━━━━━━━━━━━━━━━━━\u001b[0m \u001b[32m98.7/98.7 MB\u001b[0m \u001b[31m8.9 MB/s\u001b[0m eta \u001b[36m0:00:00\u001b[0m\n",
            "\u001b[?25hRequirement already satisfied: graphviz in /usr/local/lib/python3.10/dist-packages (from catboost) (0.20.1)\n",
            "Requirement already satisfied: matplotlib in /usr/local/lib/python3.10/dist-packages (from catboost) (3.7.1)\n",
            "Requirement already satisfied: numpy>=1.16.0 in /usr/local/lib/python3.10/dist-packages (from catboost) (1.23.5)\n",
            "Requirement already satisfied: pandas>=0.24 in /usr/local/lib/python3.10/dist-packages (from catboost) (1.5.3)\n",
            "Requirement already satisfied: scipy in /usr/local/lib/python3.10/dist-packages (from catboost) (1.11.4)\n",
            "Requirement already satisfied: plotly in /usr/local/lib/python3.10/dist-packages (from catboost) (5.15.0)\n",
            "Requirement already satisfied: six in /usr/local/lib/python3.10/dist-packages (from catboost) (1.16.0)\n",
            "Requirement already satisfied: python-dateutil>=2.8.1 in /usr/local/lib/python3.10/dist-packages (from pandas>=0.24->catboost) (2.8.2)\n",
            "Requirement already satisfied: pytz>=2020.1 in /usr/local/lib/python3.10/dist-packages (from pandas>=0.24->catboost) (2023.3.post1)\n",
            "Requirement already satisfied: contourpy>=1.0.1 in /usr/local/lib/python3.10/dist-packages (from matplotlib->catboost) (1.2.0)\n",
            "Requirement already satisfied: cycler>=0.10 in /usr/local/lib/python3.10/dist-packages (from matplotlib->catboost) (0.12.1)\n",
            "Requirement already satisfied: fonttools>=4.22.0 in /usr/local/lib/python3.10/dist-packages (from matplotlib->catboost) (4.47.0)\n",
            "Requirement already satisfied: kiwisolver>=1.0.1 in /usr/local/lib/python3.10/dist-packages (from matplotlib->catboost) (1.4.5)\n",
            "Requirement already satisfied: packaging>=20.0 in /usr/local/lib/python3.10/dist-packages (from matplotlib->catboost) (23.2)\n",
            "Requirement already satisfied: pillow>=6.2.0 in /usr/local/lib/python3.10/dist-packages (from matplotlib->catboost) (9.4.0)\n",
            "Requirement already satisfied: pyparsing>=2.3.1 in /usr/local/lib/python3.10/dist-packages (from matplotlib->catboost) (3.1.1)\n",
            "Requirement already satisfied: tenacity>=6.2.0 in /usr/local/lib/python3.10/dist-packages (from plotly->catboost) (8.2.3)\n",
            "Installing collected packages: catboost\n",
            "Successfully installed catboost-1.2.2\n"
          ]
        }
      ]
    },
    {
      "cell_type": "code",
      "source": [
        "from catboost import CatBoostClassifier\n",
        "\n",
        "clf = CatBoostClassifier(\n",
        "    iterations=5,\n",
        "    learning_rate=0.1,\n",
        "    #loss_function='CrossEntropy'\n",
        ")\n",
        "\n",
        "\n",
        "clf.fit(X_train, y_train,\n",
        "        cat_features=cat_features,\n",
        "        eval_set=(X_val, y_val),\n",
        "        verbose=False\n",
        ")\n",
        "\n",
        "print('CatBoost model is fitted: ' + str(clf.is_fitted()))\n",
        "print('CatBoost model parameters:')\n",
        "print(clf.get_params())"
      ],
      "metadata": {
        "colab": {
          "base_uri": "https://localhost:8080/"
        },
        "id": "F2mk5YC35xI4",
        "outputId": "65edcb6a-5bf7-439f-d94b-8cfee4632e75"
      },
      "execution_count": null,
      "outputs": [
        {
          "output_type": "stream",
          "name": "stdout",
          "text": [
            "CatBoost model is fitted: True\n",
            "CatBoost model parameters:\n",
            "{'iterations': 5, 'learning_rate': 0.1}\n"
          ]
        }
      ]
    },
    {
      "cell_type": "code",
      "source": [
        "from catboost import CatBoostClassifier\n",
        "clf = CatBoostClassifier(\n",
        "    iterations=10,\n",
        "#     verbose=5,\n",
        ")\n",
        "\n",
        "clf.fit(\n",
        "    X_train, y_train,\n",
        "    cat_features=cat_features,\n",
        "    eval_set=(X_val, y_val),\n",
        ")"
      ],
      "metadata": {
        "colab": {
          "base_uri": "https://localhost:8080/"
        },
        "id": "oIRh9lJI5xFe",
        "outputId": "fcad09c8-f4df-4823-9888-13164c1feab3"
      },
      "execution_count": null,
      "outputs": [
        {
          "output_type": "stream",
          "name": "stdout",
          "text": [
            "Learning rate set to 0.5\n",
            "0:\tlearn: 0.3971379\ttest: 0.3960691\tbest: 0.3960691 (0)\ttotal: 42.7ms\tremaining: 384ms\n",
            "1:\tlearn: 0.2948071\ttest: 0.2924021\tbest: 0.2924021 (1)\ttotal: 146ms\tremaining: 585ms\n",
            "2:\tlearn: 0.2485317\ttest: 0.2454599\tbest: 0.2454599 (2)\ttotal: 204ms\tremaining: 476ms\n",
            "3:\tlearn: 0.2234301\ttest: 0.2191836\tbest: 0.2191836 (3)\ttotal: 272ms\tremaining: 407ms\n",
            "4:\tlearn: 0.1999100\ttest: 0.1935203\tbest: 0.1935203 (4)\ttotal: 355ms\tremaining: 355ms\n",
            "5:\tlearn: 0.1911956\ttest: 0.1831193\tbest: 0.1831193 (5)\ttotal: 396ms\tremaining: 264ms\n",
            "6:\tlearn: 0.1854231\ttest: 0.1763719\tbest: 0.1763719 (6)\ttotal: 432ms\tremaining: 185ms\n",
            "7:\tlearn: 0.1818392\ttest: 0.1732419\tbest: 0.1732419 (7)\ttotal: 447ms\tremaining: 112ms\n",
            "8:\tlearn: 0.1789139\ttest: 0.1679366\tbest: 0.1679366 (8)\ttotal: 463ms\tremaining: 51.5ms\n",
            "9:\tlearn: 0.1777264\ttest: 0.1656210\tbest: 0.1656210 (9)\ttotal: 477ms\tremaining: 0us\n",
            "\n",
            "bestTest = 0.1656210392\n",
            "bestIteration = 9\n",
            "\n"
          ]
        },
        {
          "output_type": "execute_result",
          "data": {
            "text/plain": [
              "<catboost.core.CatBoostClassifier at 0x7bc574ce1ea0>"
            ]
          },
          "metadata": {},
          "execution_count": 15
        }
      ]
    },
    {
      "cell_type": "code",
      "source": [
        "print(clf.predict(data=X_val))"
      ],
      "metadata": {
        "id": "YSe9oTP35454",
        "outputId": "6e408ac4-8435-4e88-a352-2c3bc279274e",
        "colab": {
          "base_uri": "https://localhost:8080/"
        }
      },
      "execution_count": null,
      "outputs": [
        {
          "output_type": "stream",
          "name": "stdout",
          "text": [
            "[1 1 1 ... 1 1 1]\n"
          ]
        }
      ]
    }
  ]
}
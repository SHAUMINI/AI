{
  "nbformat": 4,
  "nbformat_minor": 0,
  "metadata": {
    "colab": {
      "provenance": []
    },
    "kernelspec": {
      "name": "python3",
      "display_name": "Python 3"
    },
    "language_info": {
      "name": "python"
    }
  },
  "cells": [
    {
      "cell_type": "code",
      "execution_count": null,
      "metadata": {
        "id": "W06rVF-U1U9k"
      },
      "outputs": [],
      "source": []
    },
    {
      "cell_type": "code",
      "source": [
        "import pandas as pd\n",
        "import numpy as np\n",
        "import matplotlib.pyplot as plt"
      ],
      "metadata": {
        "id": "avimkcSZf2aa"
      },
      "execution_count": null,
      "outputs": []
    },
    {
      "cell_type": "code",
      "source": [
        "test=pd.read_csv(\"https://raw.githubusercontent.com/ezioauditore-tech/AI/main/datasets/Titanic/test.csv\")\n",
        "train=pd.read_csv(\"https://raw.githubusercontent.com/ezioauditore-tech/AI/main/datasets/Titanic/train.csv\")"
      ],
      "metadata": {
        "id": "rBKYNAVvg-I7"
      },
      "execution_count": null,
      "outputs": []
    },
    {
      "cell_type": "code",
      "source": [
        "train.set_index(\"PassengerId\",inplace=True)\n",
        "test.set_index(\"PassengerId\",inplace=True)"
      ],
      "metadata": {
        "id": "-qgip7VcherQ"
      },
      "execution_count": null,
      "outputs": []
    },
    {
      "cell_type": "code",
      "source": [
        "y_train=train[\"Survived\"]"
      ],
      "metadata": {
        "id": "xau-V04tiDfM"
      },
      "execution_count": null,
      "outputs": []
    },
    {
      "cell_type": "code",
      "source": [
        "train.drop(labels=\"Survived\",axis=1,inplace=True)"
      ],
      "metadata": {
        "id": "XP_hIcCAii7t"
      },
      "execution_count": null,
      "outputs": []
    },
    {
      "cell_type": "code",
      "source": [
        "train_test=train.append(test)"
      ],
      "metadata": {
        "colab": {
          "base_uri": "https://localhost:8080/"
        },
        "id": "h-sTyj3wi45I",
        "outputId": "ed84da49-56f7-4c43-a1f2-a24930db19f9"
      },
      "execution_count": null,
      "outputs": [
        {
          "output_type": "stream",
          "name": "stderr",
          "text": [
            "<ipython-input-14-d2734cde2921>:1: FutureWarning: The frame.append method is deprecated and will be removed from pandas in a future version. Use pandas.concat instead.\n",
            "  train_test=train.append(test)\n"
          ]
        }
      ]
    },
    {
      "cell_type": "code",
      "source": [
        "columns_to_drop=[\"Name\",\"Age\",\"Ticket\",\"Cabin\",\"Parch\",\"Embarked\",\"SibSp\"]\n",
        "train_test.drop(labels=columns_to_drop,axis=1,inplace=True)\n",
        "#delete data that are not used for training and prediction"
      ],
      "metadata": {
        "id": "Xp1oJo3njGkd"
      },
      "execution_count": null,
      "outputs": []
    },
    {
      "cell_type": "code",
      "source": [
        "train_test_dummies=pd.get_dummies(train_test, columns=[\"Sex\"])\n",
        "#converting objects to numbers by pandas.get_dummies"
      ],
      "metadata": {
        "id": "D-0FpYMEqhip"
      },
      "execution_count": null,
      "outputs": []
    },
    {
      "cell_type": "code",
      "source": [
        "train_test_dummies.fillna(value=0.0, inplace=True)"
      ],
      "metadata": {
        "id": "6hAaRQCsrQh0"
      },
      "execution_count": null,
      "outputs": []
    },
    {
      "cell_type": "code",
      "source": [
        "X_train=train_test_dummies.values[0:891]\n",
        "X_test=train_test_dummies.values[891:]"
      ],
      "metadata": {
        "id": "0gLYrC9UrZV3"
      },
      "execution_count": null,
      "outputs": []
    },
    {
      "cell_type": "code",
      "source": [
        "from sklearn.preprocessing import MinMaxScaler\n",
        "scaler=MinMaxScaler()\n",
        "X_train_scaler=scaler.fit_transform(X_train)\n",
        "X_test_scaler=scaler.transform(X_test)"
      ],
      "metadata": {
        "id": "NV62rI1dr9oj"
      },
      "execution_count": null,
      "outputs": []
    },
    {
      "cell_type": "code",
      "source": [
        "from sklearn.preprocessing import MinMaxScaler\n",
        "scaler=MinMaxScaler()\n",
        "X_train_scaler=scaler.fit_transform(X_train)\n",
        "X_test_scaler=scaler.transform(X_test)"
      ],
      "metadata": {
        "id": "Sm4llopD155R"
      },
      "execution_count": null,
      "outputs": []
    },
    {
      "cell_type": "code",
      "source": [
        "from sklearn.model_selection import train_test_split\n",
        "X_train_sub, X_validation_sub, y_train_sub, y_validation_sub= train_test_split(X_train_scaler,y_train,random_state=0)\n",
        "#split training fearture and target sets into training and validation subsets"
      ],
      "metadata": {
        "id": "gjhLGEH9seJ5"
      },
      "execution_count": null,
      "outputs": []
    },
    {
      "cell_type": "code",
      "source": [
        "from sklearn.model_selection import train_test_split\n",
        "X_train_sub, X_validation_sub, y_train_sub, y_validation_sub= train_test_split(X_train_scaler,y_train,random_state=0)\n",
        "#split training fearture and target sets into training and validation subsets"
      ],
      "metadata": {
        "id": "DTo650mU1-8L"
      },
      "execution_count": null,
      "outputs": []
    },
    {
      "cell_type": "code",
      "source": [
        "from sklearn.ensemble import AdaBoostClassifier\n",
        "from sklearn.metrics import classification_report,confusion_matrix"
      ],
      "metadata": {
        "id": "vpMBE9-ptr5N"
      },
      "execution_count": null,
      "outputs": []
    },
    {
      "cell_type": "code",
      "source": [
        "learning_rates=[0.05,0.1,0.25,0.5,0.75,1]\n",
        "for learning_rate in learning_rates:\n",
        "  gb=AdaBoostClassifier(n_estimators=20, learning_rate=learning_rate,random_state=0)\n",
        "  gb.fit(X_train_sub, y_train_sub)\n",
        "  print(\"Learning Rate: \",learning_rate)\n",
        "  print(\"Accuracy score (training): {0:.3f}\".format(gb.score(X_train_sub, y_train_sub)))\n",
        "  print(\"Accuracy score (validation): {0:.3f}\".format(gb.score(X_validation_sub, y_validation_sub)))\n",
        "  print()"
      ],
      "metadata": {
        "colab": {
          "base_uri": "https://localhost:8080/"
        },
        "id": "WAH9aD6auA3N",
        "outputId": "544ebf37-e91e-4129-d028-e0d94e8555f5"
      },
      "execution_count": null,
      "outputs": [
        {
          "output_type": "stream",
          "name": "stdout",
          "text": [
            "Learning Rate:  0.05\n",
            "Accuracy score (training): 0.789\n",
            "Accuracy score (validation): 0.780\n",
            "\n",
            "Learning Rate:  0.1\n",
            "Accuracy score (training): 0.789\n",
            "Accuracy score (validation): 0.780\n",
            "\n",
            "Learning Rate:  0.25\n",
            "Accuracy score (training): 0.792\n",
            "Accuracy score (validation): 0.780\n",
            "\n",
            "Learning Rate:  0.5\n",
            "Accuracy score (training): 0.795\n",
            "Accuracy score (validation): 0.776\n",
            "\n",
            "Learning Rate:  0.75\n",
            "Accuracy score (training): 0.798\n",
            "Accuracy score (validation): 0.776\n",
            "\n",
            "Learning Rate:  1\n",
            "Accuracy score (training): 0.804\n",
            "Accuracy score (validation): 0.776\n",
            "\n"
          ]
        }
      ]
    }
  ]
}